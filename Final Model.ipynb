{
 "cells": [
  {
   "cell_type": "code",
   "execution_count": 2,
   "id": "100e44ff",
   "metadata": {},
   "outputs": [
    {
     "name": "stderr",
     "output_type": "stream",
     "text": [
      "C:\\Users\\chaud\\anaconda3\\Lib\\site-packages\\torchvision\\models\\_utils.py:208: UserWarning: The parameter 'pretrained' is deprecated since 0.13 and may be removed in the future, please use 'weights' instead.\n",
      "  warnings.warn(\n",
      "C:\\Users\\chaud\\anaconda3\\Lib\\site-packages\\torchvision\\models\\_utils.py:223: UserWarning: Arguments other than a weight enum or `None` for 'weights' are deprecated since 0.13 and may be removed in the future. The current behavior is equivalent to passing `weights=None`.\n",
      "  warnings.warn(msg)\n",
      "C:\\Users\\chaud\\anaconda3\\Lib\\site-packages\\torchvision\\models\\inception.py:43: FutureWarning: The default weight initialization of inception_v3 will be changed in future releases of torchvision. If you wish to keep the old behavior (which leads to long initialization times due to scipy/scipy#11299), please set init_weights=True.\n",
      "  warnings.warn(\n"
     ]
    }
   ],
   "source": [
    "pip install imageai torch torchvision numpy tensorflow"
   ]
  },
  {
   "cell_type": "code",
   "execution_count": 1,
   "id": "80232513",
   "metadata": {},
   "outputs": [
    {
     "name": "stderr",
     "output_type": "stream",
     "text": [
      "C:\\Users\\chaud\\anaconda3\\Lib\\site-packages\\torchvision\\models\\_utils.py:208: UserWarning: The parameter 'pretrained' is deprecated since 0.13 and may be removed in the future, please use 'weights' instead.\n",
      "  warnings.warn(\n",
      "C:\\Users\\chaud\\anaconda3\\Lib\\site-packages\\torchvision\\models\\_utils.py:223: UserWarning: Arguments other than a weight enum or `None` for 'weights' are deprecated since 0.13 and may be removed in the future. The current behavior is equivalent to passing `weights=None`.\n",
      "  warnings.warn(msg)\n",
      "C:\\Users\\chaud\\anaconda3\\Lib\\site-packages\\torchvision\\models\\inception.py:43: FutureWarning: The default weight initialization of inception_v3 will be changed in future releases of torchvision. If you wish to keep the old behavior (which leads to long initialization times due to scipy/scipy#11299), please set init_weights=True.\n",
      "  warnings.warn(\n"
     ]
    }
   ],
   "source": [
    "from imageai.Classification.Custom import CustomImageClassification\n",
    "import os"
   ]
  },
  {
   "cell_type": "code",
   "execution_count": 2,
   "id": "446a2d88",
   "metadata": {},
   "outputs": [],
   "source": [
    "execution_path = os.getcwd()\n",
    "prediction = CustomImageClassification()\n",
    "prediction.setModelTypeAsResNet50()"
   ]
  },
  {
   "cell_type": "code",
   "execution_count": 3,
   "id": "52276a6f",
   "metadata": {},
   "outputs": [],
   "source": [
    "prediction.setModelPath(os.path.join(execution_path, r\"model\\resnet50-dataset-test_acc_0.77200_epoch-9.pt\"))\n",
    "prediction.setJsonPath(os.path.join(execution_path, r\"model\\dataset_model_classes.json\"))"
   ]
  },
  {
   "cell_type": "code",
   "execution_count": 4,
   "id": "dd5a8c4b",
   "metadata": {},
   "outputs": [],
   "source": [
    "prediction.loadModel()"
   ]
  },
  {
   "cell_type": "code",
   "execution_count": 5,
   "id": "97054a3c",
   "metadata": {},
   "outputs": [
    {
     "name": "stdout",
     "output_type": "stream",
     "text": [
      "['RINGS', 'BRACELET', 'EARRINGS', 'WRISTWATCH', 'NECKLACE'] [56.5384, 19.0287, 15.9668, 8.3643, 0.1018]\n"
     ]
    }
   ],
   "source": [
    "predictions, probabilities = prediction.classifyImage(r\"data\\ring.JPG\", result_count=5)\n",
    "print(predictions, probabilities)"
   ]
  },
  {
   "cell_type": "code",
   "execution_count": 6,
   "id": "2ad1e7bf",
   "metadata": {},
   "outputs": [
    {
     "name": "stdout",
     "output_type": "stream",
     "text": [
      "['EARRINGS', 'RINGS', 'NECKLACE', 'WRISTWATCH', 'BRACELET'] [99.5577, 0.4278, 0.0104, 0.0038, 0.0002]\n"
     ]
    }
   ],
   "source": [
    "predictions, probabilities = prediction.classifyImage(r\"data\\earring.JPG\", result_count=5)\n",
    "print(predictions, probabilities)"
   ]
  },
  {
   "cell_type": "code",
   "execution_count": 7,
   "id": "b3c8b7fb",
   "metadata": {},
   "outputs": [
    {
     "name": "stdout",
     "output_type": "stream",
     "text": [
      "['RINGS', 'BRACELET', 'EARRINGS', 'NECKLACE', 'WRISTWATCH'] [44.1281, 33.0463, 16.3232, 6.2116, 0.2908]\n"
     ]
    }
   ],
   "source": [
    "predictions, probabilities = prediction.classifyImage(r\"data\\necklace.JPG\", result_count=5)\n",
    "print(predictions, probabilities)"
   ]
  },
  {
   "cell_type": "code",
   "execution_count": 8,
   "id": "d17cff9d",
   "metadata": {},
   "outputs": [
    {
     "name": "stdout",
     "output_type": "stream",
     "text": [
      "['WRISTWATCH', 'EARRINGS', 'RINGS', 'BRACELET', 'NECKLACE'] [96.7949, 1.73, 1.0655, 0.4096, 0.0]\n"
     ]
    }
   ],
   "source": [
    "predictions, probabilities = prediction.classifyImage(r\"data\\wristwatch.JPG\", result_count=5)\n",
    "print(predictions, probabilities)"
   ]
  },
  {
   "cell_type": "code",
   "execution_count": 9,
   "id": "afa841e8",
   "metadata": {},
   "outputs": [
    {
     "name": "stdout",
     "output_type": "stream",
     "text": [
      "['BRACELET', 'RINGS', 'NECKLACE', 'EARRINGS', 'WRISTWATCH'] [76.8789, 16.1428, 3.98, 2.9346, 0.0637]\n"
     ]
    }
   ],
   "source": [
    "predictions, probabilities = prediction.classifyImage(r\"data\\bracelet.JPG\", result_count=5)\n",
    "print(predictions, probabilities)"
   ]
  },
  {
   "cell_type": "code",
   "execution_count": null,
   "id": "21cd26b7",
   "metadata": {},
   "outputs": [],
   "source": []
  }
 ],
 "metadata": {
  "kernelspec": {
   "display_name": "Python 3 (ipykernel)",
   "language": "python",
   "name": "python3"
  },
  "language_info": {
   "codemirror_mode": {
    "name": "ipython",
    "version": 3
   },
   "file_extension": ".py",
   "mimetype": "text/x-python",
   "name": "python",
   "nbconvert_exporter": "python",
   "pygments_lexer": "ipython3",
   "version": "3.11.5"
  }
 },
 "nbformat": 4,
 "nbformat_minor": 5
}
